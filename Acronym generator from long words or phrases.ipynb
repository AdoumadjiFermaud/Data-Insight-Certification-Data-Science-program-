{
 "cells": [
  {
   "cell_type": "code",
   "execution_count": 13,
   "id": "7fcf21e2",
   "metadata": {},
   "outputs": [
    {
     "name": "stdout",
     "output_type": "stream",
     "text": [
      "Enter a phrase: Artificial Intelligence\n",
      "The acronym for your phrase is  AI.\n"
     ]
    }
   ],
   "source": [
    "# Get the user input for a phrase\n",
    "user_input = input(\"Enter a phrase: \")\n",
    "\n",
    "# split the phrase into substrings\n",
    "phrase = (user_input.replace('is a subset of', '')).split()\n",
    "acronym = \"\"\n",
    "\n",
    "# iterate through every substring\n",
    "for word in phrase:\n",
    "    acronym = acronym + word[0].upper()\n",
    "print(\"The acronym for your phrase is \",acronym + \".\")\n"
   ]
  },
  {
   "cell_type": "code",
   "execution_count": null,
   "id": "9c2b80be",
   "metadata": {},
   "outputs": [],
   "source": []
  }
 ],
 "metadata": {
  "kernelspec": {
   "display_name": "Python 3",
   "language": "python",
   "name": "python3"
  },
  "language_info": {
   "codemirror_mode": {
    "name": "ipython",
    "version": 3
   },
   "file_extension": ".py",
   "mimetype": "text/x-python",
   "name": "python",
   "nbconvert_exporter": "python",
   "pygments_lexer": "ipython3",
   "version": "3.8.8"
  }
 },
 "nbformat": 4,
 "nbformat_minor": 5
}
