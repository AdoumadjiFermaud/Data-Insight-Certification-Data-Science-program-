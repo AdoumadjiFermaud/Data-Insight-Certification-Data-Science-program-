{
 "cells": [
  {
   "cell_type": "code",
   "execution_count": 7,
   "id": "77797465",
   "metadata": {
    "scrolled": true
   },
   "outputs": [
    {
     "name": "stdout",
     "output_type": "stream",
     "text": [
      "Enter a ten-digit number please: 123065498723615404004249785469780\n",
      "zero_count: 5\n",
      "even_count: 15\n",
      "odd_count: 13\n"
     ]
    }
   ],
   "source": [
    "def digit_count(digits):\n",
    "    \"\"\" Takes a list of single digits and returns the \n",
    "        count of zeros, evens and odds\n",
    "    \"\"\"\n",
    "    zero_count = 0\n",
    "    even_count = 0\n",
    "    odd_count = 0\n",
    "    for i in digits:\n",
    "        if i == 0:\n",
    "            zero_count += 1\n",
    "        elif i % 2 == 0:\n",
    "            even_count += 1\n",
    "        else:\n",
    "            odd_count += 1\n",
    "    return zero_count, even_count, odd_count\n",
    "\n",
    "inp = input(\"Enter a ten-digit number please: \")\n",
    "digits = [int(i) for i in inp] \n",
    "\n",
    "zero_count, even_count, odd_count = digit_count(digits)\n",
    "\n",
    "print('zero_count: %d' % zero_count)\n",
    "print('even_count: %d' % even_count)\n",
    "print('odd_count: %d' % odd_count)"
   ]
  },
  {
   "cell_type": "code",
   "execution_count": null,
   "id": "b7db9c66",
   "metadata": {},
   "outputs": [],
   "source": []
  }
 ],
 "metadata": {
  "kernelspec": {
   "display_name": "Python 3",
   "language": "python",
   "name": "python3"
  },
  "language_info": {
   "codemirror_mode": {
    "name": "ipython",
    "version": 3
   },
   "file_extension": ".py",
   "mimetype": "text/x-python",
   "name": "python",
   "nbconvert_exporter": "python",
   "pygments_lexer": "ipython3",
   "version": "3.8.8"
  }
 },
 "nbformat": 4,
 "nbformat_minor": 5
}
