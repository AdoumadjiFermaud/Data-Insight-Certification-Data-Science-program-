{
 "cells": [
  {
   "cell_type": "markdown",
   "id": "e9a5b8df",
   "metadata": {},
   "source": [
    "### If statement"
   ]
  },
  {
   "cell_type": "markdown",
   "id": "ad91fe1b",
   "metadata": {},
   "source": [
    "An \"if\" statement tests a condition and then reacts to that condition. If the condition is true, the next action is performed. You can test several conditions at the same time and respond appropriately to each one using \"if\" statement."
   ]
  },
  {
   "cell_type": "markdown",
   "id": "ca526a53",
   "metadata": {},
   "source": [
    "#### Exemple\n",
    "\n",
    "Here is an example that shows a number of desserts I like. It lists these desserts, but lets you know which one is your favourite."
   ]
  },
  {
   "cell_type": "code",
   "execution_count": 2,
   "id": "4754d4ca",
   "metadata": {},
   "outputs": [
    {
     "name": "stdout",
     "output_type": "stream",
     "text": [
      "I like ice cream.\n",
      "I like chocolate.\n",
      "Apple Crisp is my favorite dessert!\n",
      "I like cookies.\n"
     ]
    }
   ],
   "source": [
    "# A list of desserts I like.\n",
    "desserts = ['ice cream', 'chocolate', 'apple crisp', 'cookies']\n",
    "favorite_dessert = 'apple crisp'\n",
    "\n",
    "#Affiche les desserts et laisse les autres savoir mon preféré.\n",
    "for dessert in desserts:\n",
    "    if dessert == favorite_dessert:\n",
    "        # ce dessert est mon preféré, fais-le savoir à tout le monde!\n",
    "        print(\"%s is my favorite dessert!\" % dessert.title())\n",
    "    else:\n",
    "        # J'aime ces desserts, mais ils ne sont pas mes preférés.\n",
    "        print(\"I like %s.\" % dessert)"
   ]
  },
  {
   "cell_type": "markdown",
   "id": "6a643fa0",
   "metadata": {},
   "source": [
    "####  What happens in this programme?"
   ]
  },
  {
   "cell_type": "markdown",
   "id": "a108a713",
   "metadata": {},
   "source": [
    "* The program starts with a list of desserts, and one dessert is identified as a favourite.\n",
    "\n",
    "* The for loop goes through all the desserts.\n",
    "\n",
    "* Within the for loop, each item in the list is tested.\n",
    "\n",
    "    * If the current value of the dessert is equal to the value of favorite_dessert, a message is printed indicating that this is my favorite dessert.\n",
    "\n",
    "    * If the current value of dessert is not equal to the value of favorite_dessert, a message is printed indicating that I just like this dessert. You can test as many conditions as you like in an if statement.\n"
   ]
  },
  {
   "cell_type": "markdown",
   "id": "69460788",
   "metadata": {},
   "source": [
    " ### Logical test"
   ]
  },
  {
   "cell_type": "markdown",
   "id": "5b7d6f1a",
   "metadata": {},
   "source": [
    "* equality (==)\n",
    "* inequality (!=)\n",
    "* other inequalities\n",
    "    * greater than (>)\n",
    "    * greater than or equal to (>=)\n",
    "    * less than (<)\n",
    "    * less than or equal to (<=)\n",
    "* You can test if an element is in the list.\n"
   ]
  },
  {
   "cell_type": "markdown",
   "id": "8840728d",
   "metadata": {},
   "source": [
    "#### Equality"
   ]
  },
  {
   "cell_type": "markdown",
   "id": "9280be90",
   "metadata": {},
   "source": [
    "Two elements are equal if they have the same value. You can test for equality between numbers, strings and some objects that you will discover later. Some of these results can be surprising, so consider the examples below carefully.\n",
    "\n",
    "In Python, as in many programming languages, two equal signs are used to test for equality.\n",
    "\n",
    "Be careful! Be careful not to accidentally use a single equal sign, which can really mess things up, because that equal sign actually gives your object the value you are testing for!\n"
   ]
  },
  {
   "cell_type": "code",
   "execution_count": 5,
   "id": "a3053115",
   "metadata": {},
   "outputs": [
    {
     "data": {
      "text/plain": [
       "True"
      ]
     },
     "execution_count": 5,
     "metadata": {},
     "output_type": "execute_result"
    }
   ],
   "source": [
    "5 == 5"
   ]
  },
  {
   "cell_type": "code",
   "execution_count": 6,
   "id": "007b0202",
   "metadata": {},
   "outputs": [
    {
     "data": {
      "text/plain": [
       "False"
      ]
     },
     "execution_count": 6,
     "metadata": {},
     "output_type": "execute_result"
    }
   ],
   "source": [
    "3 == 5 "
   ]
  },
  {
   "cell_type": "code",
   "execution_count": 7,
   "id": "22552308",
   "metadata": {},
   "outputs": [
    {
     "data": {
      "text/plain": [
       "True"
      ]
     },
     "execution_count": 7,
     "metadata": {},
     "output_type": "execute_result"
    }
   ],
   "source": [
    "5 == 5.0"
   ]
  },
  {
   "cell_type": "code",
   "execution_count": 8,
   "id": "a946765a",
   "metadata": {},
   "outputs": [
    {
     "data": {
      "text/plain": [
       "True"
      ]
     },
     "execution_count": 8,
     "metadata": {},
     "output_type": "execute_result"
    }
   ],
   "source": [
    "'eric' == 'eric'"
   ]
  },
  {
   "cell_type": "code",
   "execution_count": 9,
   "id": "c4fc1d2d",
   "metadata": {},
   "outputs": [
    {
     "data": {
      "text/plain": [
       "False"
      ]
     },
     "execution_count": 9,
     "metadata": {},
     "output_type": "execute_result"
    }
   ],
   "source": [
    "'Eric' == 'eric'"
   ]
  },
  {
   "cell_type": "code",
   "execution_count": 10,
   "id": "45ab9651",
   "metadata": {},
   "outputs": [
    {
     "data": {
      "text/plain": [
       "True"
      ]
     },
     "execution_count": 10,
     "metadata": {},
     "output_type": "execute_result"
    }
   ],
   "source": [
    "'Eric'.lower() == 'eric'.lower()"
   ]
  },
  {
   "cell_type": "markdown",
   "id": "c9568c4d",
   "metadata": {},
   "source": [
    "#### Inequality"
   ]
  },
  {
   "cell_type": "markdown",
   "id": "4389d68b",
   "metadata": {},
   "source": [
    "Two elements are unequal if they do not have the same value. In Python, we test the inequality by using the exclamation mark and the equal sign."
   ]
  },
  {
   "cell_type": "code",
   "execution_count": 11,
   "id": "f034c364",
   "metadata": {},
   "outputs": [
    {
     "data": {
      "text/plain": [
       "True"
      ]
     },
     "execution_count": 11,
     "metadata": {},
     "output_type": "execute_result"
    }
   ],
   "source": [
    "3 != 5"
   ]
  },
  {
   "cell_type": "code",
   "execution_count": 12,
   "id": "f73ce436",
   "metadata": {},
   "outputs": [
    {
     "data": {
      "text/plain": [
       "False"
      ]
     },
     "execution_count": 12,
     "metadata": {},
     "output_type": "execute_result"
    }
   ],
   "source": [
    "5 != 5"
   ]
  },
  {
   "cell_type": "code",
   "execution_count": 13,
   "id": "25c6e6d5",
   "metadata": {},
   "outputs": [
    {
     "data": {
      "text/plain": [
       "True"
      ]
     },
     "execution_count": 13,
     "metadata": {},
     "output_type": "execute_result"
    }
   ],
   "source": [
    "'Eric' != 'eric'"
   ]
  },
  {
   "cell_type": "markdown",
   "id": "782ee730",
   "metadata": {},
   "source": [
    "#### Other inequalities"
   ]
  },
  {
   "cell_type": "code",
   "execution_count": 14,
   "id": "e3991793",
   "metadata": {},
   "outputs": [
    {
     "data": {
      "text/plain": [
       "True"
      ]
     },
     "execution_count": 14,
     "metadata": {},
     "output_type": "execute_result"
    }
   ],
   "source": [
    "5 > 3"
   ]
  },
  {
   "cell_type": "code",
   "execution_count": 15,
   "id": "5cb031c5",
   "metadata": {},
   "outputs": [
    {
     "data": {
      "text/plain": [
       "True"
      ]
     },
     "execution_count": 15,
     "metadata": {},
     "output_type": "execute_result"
    }
   ],
   "source": [
    "5 >= 3"
   ]
  },
  {
   "cell_type": "code",
   "execution_count": 16,
   "id": "f4a98332",
   "metadata": {},
   "outputs": [
    {
     "data": {
      "text/plain": [
       "True"
      ]
     },
     "execution_count": 16,
     "metadata": {},
     "output_type": "execute_result"
    }
   ],
   "source": [
    "3 >= 3"
   ]
  },
  {
   "cell_type": "code",
   "execution_count": 17,
   "id": "19f9a8f7",
   "metadata": {},
   "outputs": [
    {
     "data": {
      "text/plain": [
       "True"
      ]
     },
     "execution_count": 17,
     "metadata": {},
     "output_type": "execute_result"
    }
   ],
   "source": [
    "3 < 5"
   ]
  },
  {
   "cell_type": "markdown",
   "id": "668be027",
   "metadata": {},
   "source": [
    "#### Checking whether an item belongs to the list"
   ]
  },
  {
   "cell_type": "code",
   "execution_count": 18,
   "id": "cbd1b06d",
   "metadata": {},
   "outputs": [
    {
     "data": {
      "text/plain": [
       "True"
      ]
     },
     "execution_count": 18,
     "metadata": {},
     "output_type": "execute_result"
    }
   ],
   "source": [
    "vowels = ['a', 'e', 'i', 'o', 'u']\n",
    "'a' in vowels"
   ]
  },
  {
   "cell_type": "code",
   "execution_count": 19,
   "id": "300bf2ab",
   "metadata": {},
   "outputs": [
    {
     "data": {
      "text/plain": [
       "False"
      ]
     },
     "execution_count": 19,
     "metadata": {},
     "output_type": "execute_result"
    }
   ],
   "source": [
    "vowels = ['a', 'e', 'i', 'o', 'u']\n",
    "'b' in vowels"
   ]
  },
  {
   "cell_type": "markdown",
   "id": "686c386b",
   "metadata": {},
   "source": [
    "### if-elif...else "
   ]
  },
  {
   "cell_type": "markdown",
   "id": "2c8e7e6b",
   "metadata": {},
   "source": [
    "You can test any set of conditions, and you can test your conditions in any combination."
   ]
  },
  {
   "cell_type": "markdown",
   "id": "2ed648af",
   "metadata": {},
   "source": [
    "The simplest test has a single if statement, and a single statement to execute if the condition is true."
   ]
  },
  {
   "cell_type": "code",
   "execution_count": 21,
   "id": "de9ea500",
   "metadata": {},
   "outputs": [],
   "source": [
    "chiens = ['willie', 'hootz', 'peso', 'juno']\n",
    "\n",
    "if len(chiens) > 5:\n",
    "    print(\"Wow, on a beaucoup de chiens ici!\")"
   ]
  },
  {
   "cell_type": "markdown",
   "id": "8a7d68c4",
   "metadata": {},
   "source": [
    "Nothing happen here because the condition is not true.that there are no errors. The condition len(dogs) > 5 is evaluates to False, and the program skips to all lines after the if block."
   ]
  },
  {
   "cell_type": "code",
   "execution_count": 24,
   "id": "4917504e",
   "metadata": {},
   "outputs": [
    {
     "name": "stdout",
     "output_type": "stream",
     "text": [
      "Wow, on a beaucoup de chiens ici!\n"
     ]
    }
   ],
   "source": [
    "chiens = ['willie', 'hootz', 'peso', 'juno']\n",
    "\n",
    "if len(chiens) > 3:\n",
    "    print(\"Wow, on a beaucoup de chiens ici!\")"
   ]
  },
  {
   "cell_type": "markdown",
   "id": "876239b2",
   "metadata": {},
   "source": [
    "#### If-else condition"
   ]
  },
  {
   "cell_type": "markdown",
   "id": "a5525760",
   "metadata": {},
   "source": [
    "Often you will want to answer a test in more than one ways. If the test is True, you will want to do one thing. If the test evaluates to false, you will want to do something else. The if-else structure allows you to do this easily. This is what it looks like:"
   ]
  },
  {
   "cell_type": "code",
   "execution_count": 25,
   "id": "9dd68be2",
   "metadata": {},
   "outputs": [
    {
     "name": "stdout",
     "output_type": "stream",
     "text": [
      "Wow, on a beaucoup de chiens ici!\n"
     ]
    }
   ],
   "source": [
    "chiens = ['willie', 'hootz', 'peso', 'juno']\n",
    "\n",
    "if len(chiens) > 3:\n",
    "    print(\"Wow, on a beaucoup de chiens ici!\")\n",
    "else:\n",
    "    print(\"Ok, c'est un nombre raisonnable de chiens.\")"
   ]
  },
  {
   "cell_type": "code",
   "execution_count": 26,
   "id": "c6049326",
   "metadata": {},
   "outputs": [
    {
     "name": "stdout",
     "output_type": "stream",
     "text": [
      "Ok, c'est un nombre raisonnable de chiens.\n"
     ]
    }
   ],
   "source": [
    "chiens = ['willie', 'hootz']\n",
    "\n",
    "if len(chiens) > 3:\n",
    "    print(\"Wow, on a beaucoup de chiens ici!\")\n",
    "else:\n",
    "    print(\"Ok, c'est un nombre raisonnable de chiens.\")"
   ]
  },
  {
   "cell_type": "markdown",
   "id": "8d374abd",
   "metadata": {},
   "source": [
    "Often you will want to test a series of conditions, rather than a simple \"or else\" situation. To do this, you can use a series of if-elif-else statements.\n",
    "\n",
    "There is no limit to the number of conditions you can test. You always need an if statement to start the string, and you can never have more than one else statement. But you can have as many elif statements as you like."
   ]
  },
  {
   "cell_type": "code",
   "execution_count": 28,
   "id": "7e98c4af",
   "metadata": {},
   "outputs": [
    {
     "name": "stdout",
     "output_type": "stream",
     "text": [
      "Bon sang, on pourrait aussi bien ouvrir une auberge pour chiens.!\n"
     ]
    }
   ],
   "source": [
    "chiens = ['willie', 'hootz', 'peso', 'monty', 'juno', 'turkey']\n",
    "\n",
    "if len(chiens) >= 5:\n",
    "    print(\"Bon sang, on pourrait aussi bien ouvrir une auberge pour chiens.!\")\n",
    "elif len(chiens) >= 3:\n",
    "    print(\"Wow, on a beaucoup de chiens ici!\")\n",
    "else:\n",
    "    print(\"Ok, c'est un nombre raisonnable de chiens.\")"
   ]
  },
  {
   "cell_type": "markdown",
   "id": "93ae7e8b",
   "metadata": {},
   "source": [
    "It is important to note that in the situations like this, only the first test is evaluated. In an if-elif-else statement, when one test passes, the other conditions are ignored."
   ]
  },
  {
   "cell_type": "code",
   "execution_count": 29,
   "id": "00ea034d",
   "metadata": {},
   "outputs": [
    {
     "name": "stdout",
     "output_type": "stream",
     "text": [
      "Wow, on a beaucoup de chiens ici!\n"
     ]
    }
   ],
   "source": [
    "chiens = ['willie', 'hootz', 'peso', 'monty']\n",
    "\n",
    "if len(chiens) >= 5:\n",
    "    print(\"Bon sang, on pourrait aussi bien ouvrir une auberge pour chiens.!\")\n",
    "elif len(chiens) >= 3:\n",
    "    print(\"Wow, on a beaucoup de chiens ici!\")\n",
    "else:\n",
    "    print(\"Ok, c'est un nombre raisonnable de chiens.\")"
   ]
  },
  {
   "cell_type": "code",
   "execution_count": 30,
   "id": "70d6c748",
   "metadata": {},
   "outputs": [
    {
     "name": "stdout",
     "output_type": "stream",
     "text": [
      "Ok, c'est un nombre raisonnable de chiens.\n"
     ]
    }
   ],
   "source": [
    "chiens = ['willie', 'hootz']\n",
    "\n",
    "if len(chiens) >= 5:\n",
    "    print(\"Bon sang, on pourrait aussi bien ouvrir une auberge pour chiens.!\")\n",
    "elif len(chiens) >= 3:\n",
    "    print(\"Wow, on a beaucoup de chiens ici!\")\n",
    "else:\n",
    "    print(\"Ok, c'est un nombre raisonnable de chiens.\")"
   ]
  },
  {
   "cell_type": "markdown",
   "id": "f2658b93",
   "metadata": {},
   "source": [
    "### Boucle for"
   ]
  },
  {
   "cell_type": "markdown",
   "id": "a3769b91",
   "metadata": {},
   "source": [
    "The for loop statement is the most widely used iteration mechanism in Python.\n",
    "\n",
    "Almost any structure in Python can be iterated (element by element) by a for loop\n",
    "\n",
    "a list, a tuple, a dictionary..."
   ]
  },
  {
   "cell_type": "code",
   "execution_count": 31,
   "id": "c359a715",
   "metadata": {},
   "outputs": [
    {
     "name": "stdout",
     "output_type": "stream",
     "text": [
      "T\n",
      "o\n",
      "a\n",
      "d\n",
      "o\n",
      "u\n",
      "m\n"
     ]
    }
   ],
   "source": [
    "s = \"Toadoum\" \n",
    "for i in s:\n",
    "    print(i)"
   ]
  },
  {
   "cell_type": "markdown",
   "id": "21a29860",
   "metadata": {},
   "source": [
    "Python uses indentation to decide what is inside the loop and what is outside the loop. The code inside the loop will be executed for each item in the list. The code that is not indented, that comes after the loop, will be executed once, like normal code."
   ]
  },
  {
   "cell_type": "code",
   "execution_count": 32,
   "id": "637b7321",
   "metadata": {},
   "outputs": [
    {
     "name": "stdout",
     "output_type": "stream",
     "text": [
      "border collie\n",
      "australian cattle dog\n",
      "labrador retriever\n"
     ]
    }
   ],
   "source": [
    "chiens = ['border collie', 'australian cattle dog', 'labrador retriever']\n",
    "\n",
    "for dog in chiens:\n",
    "    print(dog)"
   ]
  },
  {
   "cell_type": "code",
   "execution_count": 33,
   "id": "0d560b8e",
   "metadata": {},
   "outputs": [
    {
     "name": "stdout",
     "output_type": "stream",
     "text": [
      "border collie\n",
      "australian cattle dog\n",
      "labrador retriever\n"
     ]
    }
   ],
   "source": [
    "chiens = ['border collie', 'australian cattle dog', 'labrador retriever']\n",
    "\n",
    "for dog in chiens:\n",
    "    print(dog)"
   ]
  },
  {
   "cell_type": "markdown",
   "id": "e0696270",
   "metadata": {},
   "source": [
    "###  Boucle While "
   ]
  },
  {
   "cell_type": "markdown",
   "id": "48beb7d9",
   "metadata": {},
   "source": [
    "A while loop tests an initial condition. If this condition is true, the loop starts to run. Each time the loop ends, the condition is re-evaluated. As long as the condition remains true, the loop continues to execute. As soon as the condition becomes false, the loop stops executing.\n",
    "\n",
    "\n",
    "* Every while loop needs an initial condition that need to be true to start.\n",
    "* The while statement includes a condition to be tested.\n",
    "* All the code in the loop runs as long as the condition remains true.\n",
    "* As soon as something in the loop changes the condition so that the test no longer passes, the loop stops running.\n",
    "* Any code defined after the loop will run at that point.\n",
    "\n"
   ]
  },
  {
   "cell_type": "code",
   "execution_count": 35,
   "id": "a6adcb87",
   "metadata": {},
   "outputs": [
    {
     "name": "stdout",
     "output_type": "stream",
     "text": [
      "you are still playing, because your power is 5.\n",
      "you are still playing, because your power is 4.\n",
      "you are still playing, because your power is 3.\n",
      "you are still playing, because your power is 2.\n",
      "you are still playing, because your power is 1.\n",
      "No, your power is zero.\n"
     ]
    }
   ],
   "source": [
    "# Player power starts at 5.\n",
    "power = 5\n",
    "\n",
    "# The player can continue to play as long as his power is greater than 0.\n",
    "while power > 0:\n",
    "    print(\"you are still playing, because your power is %d.\" % power)\n",
    "    # The code for your game is here, and includes the challenges that make it\n",
    "    # possible to lose power.\n",
    "    # We can represent this by simply removing power.\n",
    "    power = power - 1\n",
    "    \n",
    "print(\"No, your power is zero.\")"
   ]
  },
  {
   "cell_type": "markdown",
   "id": "43952538",
   "metadata": {},
   "source": [
    "### Lists"
   ]
  },
  {
   "cell_type": "markdown",
   "id": "e5ed3dc1",
   "metadata": {},
   "source": [
    "Python offers a range of compound data types often referred as sequences. List is one of the most frequently used and very versatile data types used in Python."
   ]
  },
  {
   "cell_type": "markdown",
   "id": "aa5eed55",
   "metadata": {},
   "source": [
    "In Python programming, a list is created by placing all the items (elements) inside square brackets [], separated by commas.\n",
    "\n",
    "It can have any number of items and they may be of different types (integer, float, string etc.)."
   ]
  },
  {
   "cell_type": "code",
   "execution_count": 36,
   "id": "7e278aee",
   "metadata": {},
   "outputs": [],
   "source": [
    "f=\"boujour maman comment vas-tu\"\n",
    "h=f.split()"
   ]
  },
  {
   "cell_type": "code",
   "execution_count": 37,
   "id": "417f2103",
   "metadata": {},
   "outputs": [
    {
     "data": {
      "text/plain": [
       "['boujour', 'maman', 'comment', 'vas-tu']"
      ]
     },
     "execution_count": 37,
     "metadata": {},
     "output_type": "execute_result"
    }
   ],
   "source": [
    "h"
   ]
  },
  {
   "cell_type": "code",
   "execution_count": 38,
   "id": "1fb0e15c",
   "metadata": {},
   "outputs": [
    {
     "data": {
      "text/plain": [
       "'b'"
      ]
     },
     "execution_count": 38,
     "metadata": {},
     "output_type": "execute_result"
    }
   ],
   "source": [
    "# Selection d'un element en utilisant les indices\n",
    "x = [\"a\", \"b\", \"c\", \"d\"]\n",
    "x[1]\n"
   ]
  },
  {
   "cell_type": "code",
   "execution_count": null,
   "id": "0338d569",
   "metadata": {},
   "outputs": [],
   "source": []
  }
 ],
 "metadata": {
  "kernelspec": {
   "display_name": "Python 3",
   "language": "python",
   "name": "python3"
  },
  "language_info": {
   "codemirror_mode": {
    "name": "ipython",
    "version": 3
   },
   "file_extension": ".py",
   "mimetype": "text/x-python",
   "name": "python",
   "nbconvert_exporter": "python",
   "pygments_lexer": "ipython3",
   "version": "3.8.8"
  }
 },
 "nbformat": 4,
 "nbformat_minor": 5
}
